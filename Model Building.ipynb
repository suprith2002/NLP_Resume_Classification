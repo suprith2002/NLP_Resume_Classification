{
 "cells": [
  {
   "cell_type": "code",
   "execution_count": 1,
   "id": "2fbd43f1",
   "metadata": {},
   "outputs": [],
   "source": [
    "import pandas as pd\n",
    "import numpy as np\n",
    "import matplotlib.pyplot as plt\n",
    "%matplotlib inline\n",
    "import seaborn as sns\n",
    "sns.set_style('darkgrid')\n",
    "import matplotlib.pylab as pylab\n",
    "import warnings\n",
    "warnings.filterwarnings('ignore')"
   ]
  },
  {
   "cell_type": "code",
   "execution_count": 2,
   "id": "cfb064b4",
   "metadata": {},
   "outputs": [
    {
     "data": {
      "text/html": [
       "<div>\n",
       "<style scoped>\n",
       "    .dataframe tbody tr th:only-of-type {\n",
       "        vertical-align: middle;\n",
       "    }\n",
       "\n",
       "    .dataframe tbody tr th {\n",
       "        vertical-align: top;\n",
       "    }\n",
       "\n",
       "    .dataframe thead th {\n",
       "        text-align: right;\n",
       "    }\n",
       "</style>\n",
       "<table border=\"1\" class=\"dataframe\">\n",
       "  <thead>\n",
       "    <tr style=\"text-align: right;\">\n",
       "      <th></th>\n",
       "      <th>Category</th>\n",
       "      <th>Resume_details</th>\n",
       "    </tr>\n",
       "  </thead>\n",
       "  <tbody>\n",
       "    <tr>\n",
       "      <th>0</th>\n",
       "      <td>peopleSoft</td>\n",
       "      <td>anubhav kumar singh core competencies scriptin...</td>\n",
       "    </tr>\n",
       "    <tr>\n",
       "      <th>1</th>\n",
       "      <td>peopleSoft</td>\n",
       "      <td>classification internal classification interna...</td>\n",
       "    </tr>\n",
       "    <tr>\n",
       "      <th>2</th>\n",
       "      <td>peopleSoft</td>\n",
       "      <td>sirazuddin bangalore india sirazuddin bangalor...</td>\n",
       "    </tr>\n",
       "    <tr>\n",
       "      <th>3</th>\n",
       "      <td>peopleSoft</td>\n",
       "      <td>peoplesoft admin varkala vikas career objectiv...</td>\n",
       "    </tr>\n",
       "    <tr>\n",
       "      <th>4</th>\n",
       "      <td>peopleSoft</td>\n",
       "      <td>peoplesoft administration vivekanand sayana ca...</td>\n",
       "    </tr>\n",
       "    <tr>\n",
       "      <th>...</th>\n",
       "      <td>...</td>\n",
       "      <td>...</td>\n",
       "    </tr>\n",
       "    <tr>\n",
       "      <th>74</th>\n",
       "      <td>workday</td>\n",
       "      <td>swamy sarnala workday integration consultant n...</td>\n",
       "    </tr>\n",
       "    <tr>\n",
       "      <th>75</th>\n",
       "      <td>workday</td>\n",
       "      <td>srikanth workday hcm consultant seeking suitab...</td>\n",
       "    </tr>\n",
       "    <tr>\n",
       "      <th>76</th>\n",
       "      <td>workday</td>\n",
       "      <td>workday hcm fcm name kumar role workday consul...</td>\n",
       "    </tr>\n",
       "    <tr>\n",
       "      <th>77</th>\n",
       "      <td>workday</td>\n",
       "      <td>mathu kumaran venki venkateswarlu workday cons...</td>\n",
       "    </tr>\n",
       "    <tr>\n",
       "      <th>78</th>\n",
       "      <td>workday</td>\n",
       "      <td>vinay kumar workday functional consultant expe...</td>\n",
       "    </tr>\n",
       "  </tbody>\n",
       "</table>\n",
       "<p>79 rows × 2 columns</p>\n",
       "</div>"
      ],
      "text/plain": [
       "      Category                                     Resume_details\n",
       "0   peopleSoft  anubhav kumar singh core competencies scriptin...\n",
       "1   peopleSoft  classification internal classification interna...\n",
       "2   peopleSoft  sirazuddin bangalore india sirazuddin bangalor...\n",
       "3   peopleSoft  peoplesoft admin varkala vikas career objectiv...\n",
       "4   peopleSoft  peoplesoft administration vivekanand sayana ca...\n",
       "..         ...                                                ...\n",
       "74     workday  swamy sarnala workday integration consultant n...\n",
       "75     workday  srikanth workday hcm consultant seeking suitab...\n",
       "76     workday  workday hcm fcm name kumar role workday consul...\n",
       "77     workday  mathu kumaran venki venkateswarlu workday cons...\n",
       "78     workday  vinay kumar workday functional consultant expe...\n",
       "\n",
       "[79 rows x 2 columns]"
      ]
     },
     "execution_count": 2,
     "metadata": {},
     "output_type": "execute_result"
    }
   ],
   "source": [
    "df=pd.read_csv('cleaned_resume.csv')\n",
    "df"
   ]
  },
  {
   "cell_type": "markdown",
   "id": "831569bc",
   "metadata": {},
   "source": [
    "## Now Label Encode is doing for Preprocessing"
   ]
  },
  {
   "cell_type": "code",
   "execution_count": 3,
   "id": "b7c8acaa",
   "metadata": {},
   "outputs": [
    {
     "data": {
      "text/html": [
       "<div>\n",
       "<style scoped>\n",
       "    .dataframe tbody tr th:only-of-type {\n",
       "        vertical-align: middle;\n",
       "    }\n",
       "\n",
       "    .dataframe tbody tr th {\n",
       "        vertical-align: top;\n",
       "    }\n",
       "\n",
       "    .dataframe thead th {\n",
       "        text-align: right;\n",
       "    }\n",
       "</style>\n",
       "<table border=\"1\" class=\"dataframe\">\n",
       "  <thead>\n",
       "    <tr style=\"text-align: right;\">\n",
       "      <th></th>\n",
       "      <th>Category</th>\n",
       "      <th>Resume_details</th>\n",
       "      <th>Labelencode</th>\n",
       "    </tr>\n",
       "  </thead>\n",
       "  <tbody>\n",
       "    <tr>\n",
       "      <th>0</th>\n",
       "      <td>peopleSoft</td>\n",
       "      <td>anubhav kumar singh core competencies scriptin...</td>\n",
       "      <td>1</td>\n",
       "    </tr>\n",
       "    <tr>\n",
       "      <th>1</th>\n",
       "      <td>peopleSoft</td>\n",
       "      <td>classification internal classification interna...</td>\n",
       "      <td>1</td>\n",
       "    </tr>\n",
       "    <tr>\n",
       "      <th>2</th>\n",
       "      <td>peopleSoft</td>\n",
       "      <td>sirazuddin bangalore india sirazuddin bangalor...</td>\n",
       "      <td>1</td>\n",
       "    </tr>\n",
       "    <tr>\n",
       "      <th>3</th>\n",
       "      <td>peopleSoft</td>\n",
       "      <td>peoplesoft admin varkala vikas career objectiv...</td>\n",
       "      <td>1</td>\n",
       "    </tr>\n",
       "    <tr>\n",
       "      <th>4</th>\n",
       "      <td>peopleSoft</td>\n",
       "      <td>peoplesoft administration vivekanand sayana ca...</td>\n",
       "      <td>1</td>\n",
       "    </tr>\n",
       "    <tr>\n",
       "      <th>...</th>\n",
       "      <td>...</td>\n",
       "      <td>...</td>\n",
       "      <td>...</td>\n",
       "    </tr>\n",
       "    <tr>\n",
       "      <th>74</th>\n",
       "      <td>workday</td>\n",
       "      <td>swamy sarnala workday integration consultant n...</td>\n",
       "      <td>3</td>\n",
       "    </tr>\n",
       "    <tr>\n",
       "      <th>75</th>\n",
       "      <td>workday</td>\n",
       "      <td>srikanth workday hcm consultant seeking suitab...</td>\n",
       "      <td>3</td>\n",
       "    </tr>\n",
       "    <tr>\n",
       "      <th>76</th>\n",
       "      <td>workday</td>\n",
       "      <td>workday hcm fcm name kumar role workday consul...</td>\n",
       "      <td>3</td>\n",
       "    </tr>\n",
       "    <tr>\n",
       "      <th>77</th>\n",
       "      <td>workday</td>\n",
       "      <td>mathu kumaran venki venkateswarlu workday cons...</td>\n",
       "      <td>3</td>\n",
       "    </tr>\n",
       "    <tr>\n",
       "      <th>78</th>\n",
       "      <td>workday</td>\n",
       "      <td>vinay kumar workday functional consultant expe...</td>\n",
       "      <td>3</td>\n",
       "    </tr>\n",
       "  </tbody>\n",
       "</table>\n",
       "<p>79 rows × 3 columns</p>\n",
       "</div>"
      ],
      "text/plain": [
       "      Category                                     Resume_details  Labelencode\n",
       "0   peopleSoft  anubhav kumar singh core competencies scriptin...            1\n",
       "1   peopleSoft  classification internal classification interna...            1\n",
       "2   peopleSoft  sirazuddin bangalore india sirazuddin bangalor...            1\n",
       "3   peopleSoft  peoplesoft admin varkala vikas career objectiv...            1\n",
       "4   peopleSoft  peoplesoft administration vivekanand sayana ca...            1\n",
       "..         ...                                                ...          ...\n",
       "74     workday  swamy sarnala workday integration consultant n...            3\n",
       "75     workday  srikanth workday hcm consultant seeking suitab...            3\n",
       "76     workday  workday hcm fcm name kumar role workday consul...            3\n",
       "77     workday  mathu kumaran venki venkateswarlu workday cons...            3\n",
       "78     workday  vinay kumar workday functional consultant expe...            3\n",
       "\n",
       "[79 rows x 3 columns]"
      ]
     },
     "execution_count": 3,
     "metadata": {},
     "output_type": "execute_result"
    }
   ],
   "source": [
    "from sklearn.preprocessing import LabelEncoder\n",
    "Encoder=LabelEncoder()\n",
    "df['Labelencode']=Encoder.fit_transform(df['Category'])\n",
    "df"
   ]
  },
  {
   "cell_type": "code",
   "execution_count": 4,
   "id": "c40ddbb8",
   "metadata": {},
   "outputs": [
    {
     "data": {
      "text/html": [
       "<div>\n",
       "<style scoped>\n",
       "    .dataframe tbody tr th:only-of-type {\n",
       "        vertical-align: middle;\n",
       "    }\n",
       "\n",
       "    .dataframe tbody tr th {\n",
       "        vertical-align: top;\n",
       "    }\n",
       "\n",
       "    .dataframe thead th {\n",
       "        text-align: right;\n",
       "    }\n",
       "</style>\n",
       "<table border=\"1\" class=\"dataframe\">\n",
       "  <thead>\n",
       "    <tr style=\"text-align: right;\">\n",
       "      <th></th>\n",
       "      <th>Labelencode</th>\n",
       "    </tr>\n",
       "  </thead>\n",
       "  <tbody>\n",
       "    <tr>\n",
       "      <th>count</th>\n",
       "      <td>79.000000</td>\n",
       "    </tr>\n",
       "    <tr>\n",
       "      <th>mean</th>\n",
       "      <td>1.405063</td>\n",
       "    </tr>\n",
       "    <tr>\n",
       "      <th>std</th>\n",
       "      <td>1.182338</td>\n",
       "    </tr>\n",
       "    <tr>\n",
       "      <th>min</th>\n",
       "      <td>0.000000</td>\n",
       "    </tr>\n",
       "    <tr>\n",
       "      <th>25%</th>\n",
       "      <td>0.000000</td>\n",
       "    </tr>\n",
       "    <tr>\n",
       "      <th>50%</th>\n",
       "      <td>1.000000</td>\n",
       "    </tr>\n",
       "    <tr>\n",
       "      <th>75%</th>\n",
       "      <td>3.000000</td>\n",
       "    </tr>\n",
       "    <tr>\n",
       "      <th>max</th>\n",
       "      <td>3.000000</td>\n",
       "    </tr>\n",
       "  </tbody>\n",
       "</table>\n",
       "</div>"
      ],
      "text/plain": [
       "       Labelencode\n",
       "count    79.000000\n",
       "mean      1.405063\n",
       "std       1.182338\n",
       "min       0.000000\n",
       "25%       0.000000\n",
       "50%       1.000000\n",
       "75%       3.000000\n",
       "max       3.000000"
      ]
     },
     "execution_count": 4,
     "metadata": {},
     "output_type": "execute_result"
    }
   ],
   "source": [
    "df.describe()"
   ]
  },
  {
   "cell_type": "code",
   "execution_count": 5,
   "id": "da820569",
   "metadata": {},
   "outputs": [
    {
     "data": {
      "text/plain": [
       "array([1, 0, 2, 3])"
      ]
     },
     "execution_count": 5,
     "metadata": {},
     "output_type": "execute_result"
    }
   ],
   "source": [
    "df['Labelencode'].unique()"
   ]
  },
  {
   "cell_type": "code",
   "execution_count": 6,
   "id": "cee2f7ba",
   "metadata": {},
   "outputs": [
    {
     "data": {
      "text/plain": [
       "array(['peopleSoft', 'Reactjs', 'sql_develop', 'workday'], dtype=object)"
      ]
     },
     "execution_count": 6,
     "metadata": {},
     "output_type": "execute_result"
    }
   ],
   "source": [
    "df['Category'].unique()"
   ]
  },
  {
   "cell_type": "code",
   "execution_count": 7,
   "id": "7e3811f2",
   "metadata": {},
   "outputs": [
    {
     "data": {
      "text/plain": [
       "Category          0\n",
       "Resume_details    0\n",
       "Labelencode       0\n",
       "dtype: int64"
      ]
     },
     "execution_count": 7,
     "metadata": {},
     "output_type": "execute_result"
    }
   ],
   "source": [
    "df.isnull().sum()"
   ]
  },
  {
   "cell_type": "code",
   "execution_count": 8,
   "id": "dfd8cfdc",
   "metadata": {},
   "outputs": [
    {
     "data": {
      "text/plain": [
       "<seaborn.axisgrid.PairGrid at 0x26378d78760>"
      ]
     },
     "execution_count": 8,
     "metadata": {},
     "output_type": "execute_result"
    },
    {
     "data": {
      "image/png": "[encoded data removed]",
      "text/plain": [
       "<Figure size 250x250 with 2 Axes>"
      ]
     },
     "metadata": {},
     "output_type": "display_data"
    }
   ],
   "source": [
    "sns.pairplot(df)"
   ]
  },
  {
   "cell_type": "markdown",
   "id": "c96f3598",
   "metadata": {},
   "source": [
    "# Model Building"
   ]
  },
  {
   "cell_type": "markdown",
   "id": "99b77581",
   "metadata": {},
   "source": [
    "## Train Test Split"
   ]
  },
  {
   "cell_type": "code",
   "execution_count": 9,
   "id": "ec7f0359",
   "metadata": {},
   "outputs": [],
   "source": [
    "x=df['Resume_details'].values  ##independent\n",
    "y=df['Category'].values     ##dependent"
   ]
  },
  {
   "cell_type": "code",
   "execution_count": 10,
   "id": "70980eb4",
   "metadata": {},
   "outputs": [],
   "source": [
    "from sklearn.model_selection import train_test_split\n",
    "x_train,x_test,y_train,y_test = train_test_split(x,y,test_size=0.30,random_state=42,stratify=y)"
   ]
  },
  {
   "cell_type": "code",
   "execution_count": 11,
   "id": "3e846163",
   "metadata": {},
   "outputs": [
    {
     "data": {
      "text/plain": [
       "((55,), (24,))"
      ]
     },
     "execution_count": 11,
     "metadata": {},
     "output_type": "execute_result"
    }
   ],
   "source": [
    "x_train.shape,x_test.shape"
   ]
  },
  {
   "cell_type": "code",
   "execution_count": 12,
   "id": "0fdd53e2",
   "metadata": {},
   "outputs": [],
   "source": [
    "from sklearn.feature_extraction.text import TfidfVectorizer\n",
    "tf_idf = TfidfVectorizer(sublinear_tf=True,stop_words='english')"
   ]
  },
  {
   "cell_type": "code",
   "execution_count": 13,
   "id": "6c8ca1a2",
   "metadata": {},
   "outputs": [],
   "source": [
    "x_train = tf_idf.fit_transform(x_train)\n",
    "x_test = tf_idf.transform(x_test)"
   ]
  },
  {
   "cell_type": "code",
   "execution_count": 14,
   "id": "cb8effcc",
   "metadata": {},
   "outputs": [
    {
     "data": {
      "text/plain": [
       "((55, 3633), (24, 3633))"
      ]
     },
     "execution_count": 14,
     "metadata": {},
     "output_type": "execute_result"
    }
   ],
   "source": [
    "x_train.shape,x_test.shape"
   ]
  },
  {
   "cell_type": "code",
   "execution_count": 15,
   "id": "35d3475f",
   "metadata": {},
   "outputs": [
    {
     "name": "stdout",
     "output_type": "stream",
     "text": [
      "['Reactjs' 'workday' 'workday' 'workday' 'workday' 'Reactjs' 'Reactjs'\n",
      " 'sql_develop' 'peopleSoft' 'Reactjs' 'workday' 'workday' 'peopleSoft'\n",
      " 'sql_develop' 'sql_develop' 'sql_develop' 'sql_develop' 'workday'\n",
      " 'Reactjs' 'peopleSoft' 'peopleSoft' 'Reactjs' 'peopleSoft' 'Reactjs'\n",
      " 'peopleSoft' 'Reactjs' 'workday' 'workday' 'Reactjs' 'sql_develop'\n",
      " 'workday' 'Reactjs' 'Reactjs' 'sql_develop' 'Reactjs' 'workday'\n",
      " 'peopleSoft' 'peopleSoft' 'peopleSoft' 'peopleSoft' 'peopleSoft'\n",
      " 'Reactjs' 'peopleSoft' 'sql_develop' 'peopleSoft' 'workday' 'Reactjs'\n",
      " 'Reactjs' 'workday' 'peopleSoft' 'Reactjs' 'sql_develop' 'Reactjs'\n",
      " 'sql_develop' 'workday']\n"
     ]
    }
   ],
   "source": [
    "print(y_train)"
   ]
  },
  {
   "cell_type": "code",
   "execution_count": 16,
   "id": "0f99df09",
   "metadata": {},
   "outputs": [
    {
     "name": "stdout",
     "output_type": "stream",
     "text": [
      "['peopleSoft' 'sql_develop' 'Reactjs' 'Reactjs' 'Reactjs' 'sql_develop'\n",
      " 'peopleSoft' 'peopleSoft' 'workday' 'workday' 'peopleSoft' 'peopleSoft'\n",
      " 'workday' 'Reactjs' 'peopleSoft' 'workday' 'workday' 'workday'\n",
      " 'sql_develop' 'sql_develop' 'Reactjs' 'workday' 'Reactjs' 'Reactjs']\n"
     ]
    }
   ],
   "source": [
    "print(y_test)"
   ]
  },
  {
   "cell_type": "markdown",
   "id": "5ad6388c",
   "metadata": {},
   "source": [
    "# Build The Model"
   ]
  },
  {
   "cell_type": "markdown",
   "id": "74087d79",
   "metadata": {},
   "source": [
    "## KNN classifier"
   ]
  },
  {
   "cell_type": "code",
   "execution_count": 17,
   "id": "b69a199a",
   "metadata": {},
   "outputs": [],
   "source": [
    "from sklearn.neighbors import KNeighborsClassifier\n",
    "from sklearn.metrics import confusion_matrix,accuracy_score,classification_report\n",
    "from sklearn.metrics import f1_score, classification_report, precision_score, recall_score"
   ]
  },
  {
   "cell_type": "code",
   "execution_count": 18,
   "id": "fbebda47",
   "metadata": {},
   "outputs": [
    {
     "name": "stdout",
     "output_type": "stream",
     "text": [
      "accuracy of training set: 0.709091\n",
      "accuracy of test set: 0.750000\n",
      "Classification report for classifier KNeighborsClassifier(n_neighbors=40):\n",
      "              precision    recall  f1-score   support\n",
      "\n",
      "     Reactjs       1.00      1.00      1.00         7\n",
      "  peopleSoft       0.83      0.83      0.83         6\n",
      " sql_develop       0.00      0.00      0.00         4\n",
      "     workday       0.55      0.86      0.67         7\n",
      "\n",
      "    accuracy                           0.75        24\n",
      "   macro avg       0.59      0.67      0.62        24\n",
      "weighted avg       0.66      0.75      0.69        24\n",
      "\n",
      "\n",
      "The model score is 0.750000\n"
     ]
    }
   ],
   "source": [
    "knn_model=KNeighborsClassifier(n_neighbors=40)\n",
    "knn_model.fit(x_train,y_train)\n",
    "y_pred = knn_model.predict(x_test)\n",
    "acc_knn=accuracy_score(y_test,y_pred)\n",
    "print('accuracy of training set: {:2f}'.format(knn_model.score(x_train,y_train)))\n",
    "print('accuracy of test set: {:2f}'.format(knn_model.score(x_test,y_test)))\n",
    "print(\"Classification report for classifier %s:\\n%s\\n\" % (knn_model,classification_report(y_test, y_pred)))\n",
    "nb_score=knn_model.score(x_test,y_test)\n",
    "print('The model score is {:2f}'.format(nb_score))\n",
    "nb_cm=confusion_matrix(y_test,y_pred)\n",
    "\n",
    "precision_knn = round(precision_score(y_test,y_pred,average = 'macro'),2)\n",
    "recall_knn = round(recall_score(y_test,y_pred, average = 'macro'),2)\n",
    "f1_knn = round(f1_score(y_test,y_pred, average = 'macro'),2)\n",
    "accuracy_knn = round(accuracy_score(y_test,y_pred),2)"
   ]
  },
  {
   "cell_type": "code",
   "execution_count": 19,
   "id": "77f95732",
   "metadata": {},
   "outputs": [
    {
     "data": {
      "text/plain": [
       "array([[7, 0, 0, 0],\n",
       "       [0, 5, 0, 1],\n",
       "       [0, 0, 0, 4],\n",
       "       [0, 1, 0, 6]], dtype=int64)"
      ]
     },
     "execution_count": 19,
     "metadata": {},
     "output_type": "execute_result"
    }
   ],
   "source": [
    "nb_cm"
   ]
  },
  {
   "cell_type": "markdown",
   "id": "4ef2c1c5",
   "metadata": {},
   "source": [
    "# Decision Tree Classifier"
   ]
  },
  {
   "cell_type": "code",
   "execution_count": 20,
   "id": "09a42f93",
   "metadata": {},
   "outputs": [],
   "source": [
    "from sklearn.tree import DecisionTreeClassifier"
   ]
  },
  {
   "cell_type": "code",
   "execution_count": 21,
   "id": "d3cca71f",
   "metadata": {},
   "outputs": [
    {
     "name": "stdout",
     "output_type": "stream",
     "text": [
      "accuracy of training set: 1.000000\n",
      "accuracy of test set: 1.000000\n",
      "Classification report for classifier DecisionTreeClassifier(max_depth=20):\n",
      "              precision    recall  f1-score   support\n",
      "\n",
      "     Reactjs       1.00      1.00      1.00         7\n",
      "  peopleSoft       1.00      1.00      1.00         6\n",
      " sql_develop       1.00      1.00      1.00         4\n",
      "     workday       1.00      1.00      1.00         7\n",
      "\n",
      "    accuracy                           1.00        24\n",
      "   macro avg       1.00      1.00      1.00        24\n",
      "weighted avg       1.00      1.00      1.00        24\n",
      "\n",
      "\n",
      "The model score is 1.000000\n"
     ]
    }
   ],
   "source": [
    "dt_model = DecisionTreeClassifier(criterion='gini',splitter='best',max_depth=20)\n",
    "dt_model.fit(x_train,y_train)\n",
    "y_pred=dt_model.predict(x_test)\n",
    "acc_dt=accuracy_score(y_test,y_pred)\n",
    "print('accuracy of training set: {:2f}'.format(dt_model.score(x_train,y_train)))\n",
    "print('accuracy of test set: {:2f}'.format(dt_model.score(x_test,y_test)))\n",
    "print(\"Classification report for classifier %s:\\n%s\\n\" % (dt_model,classification_report(y_test, y_pred)))\n",
    "nb_score=dt_model.score(x_test,y_test)\n",
    "print('The model score is {:2f}'.format(nb_score))\n",
    "nb_cm=confusion_matrix(y_test,y_pred,)\n",
    "\n",
    "precision_dt = round(precision_score(y_test,y_pred,average = 'macro'),2)\n",
    "recall_dt = round(recall_score(y_test,y_pred, average = 'macro'),2)\n",
    "f1_dt = round(f1_score(y_test,y_pred, average = 'macro'),2)\n",
    "accuracy_dt = round(accuracy_score(y_test,y_pred),2)"
   ]
  },
  {
   "cell_type": "code",
   "execution_count": 22,
   "id": "25911a11",
   "metadata": {},
   "outputs": [
    {
     "name": "stdout",
     "output_type": "stream",
     "text": [
      "[[7 0 0 0]\n",
      " [0 6 0 0]\n",
      " [0 0 4 0]\n",
      " [0 0 0 7]]\n"
     ]
    }
   ],
   "source": [
    "print(nb_cm)"
   ]
  },
  {
   "cell_type": "markdown",
   "id": "762ecfc9",
   "metadata": {},
   "source": [
    "# Naive Bayes Classifier"
   ]
  },
  {
   "cell_type": "code",
   "execution_count": 23,
   "id": "ebf6aeaa",
   "metadata": {},
   "outputs": [],
   "source": [
    "from sklearn.naive_bayes import MultinomialNB"
   ]
  },
  {
   "cell_type": "code",
   "execution_count": 24,
   "id": "ca9f4d8a",
   "metadata": {},
   "outputs": [
    {
     "name": "stdout",
     "output_type": "stream",
     "text": [
      "accuracy of training set: 1.000000\n",
      "accuracy of test set: 0.875000\n",
      "Classification report for classifier MultinomialNB(alpha=1, fit_prior=False):\n",
      "              precision    recall  f1-score   support\n",
      "\n",
      "     Reactjs       1.00      1.00      1.00         7\n",
      "  peopleSoft       1.00      0.50      0.67         6\n",
      " sql_develop       1.00      1.00      1.00         4\n",
      "     workday       0.70      1.00      0.82         7\n",
      "\n",
      "    accuracy                           0.88        24\n",
      "   macro avg       0.93      0.88      0.87        24\n",
      "weighted avg       0.91      0.88      0.87        24\n",
      "\n",
      "\n",
      "The model score is 0.875000\n"
     ]
    }
   ],
   "source": [
    "nv_model= MultinomialNB(alpha=1,fit_prior=False, class_prior=None)## the alpha value should be 0 to 1\n",
    "nv_model.fit(x_train,y_train)\n",
    "y_pred=nv_model.predict(x_test)\n",
    "acc_nv=accuracy_score(y_test,y_pred)\n",
    "print('accuracy of training set: {:2f}'.format(nv_model.score(x_train,y_train)))\n",
    "print('accuracy of test set: {:2f}'.format(nv_model.score(x_test,y_test)))\n",
    "print(\"Classification report for classifier %s:\\n%s\\n\" % (nv_model,classification_report(y_test, y_pred)))\n",
    "nb_score=nv_model.score(x_test,y_test)\n",
    "print('The model score is {:2f}'.format(nb_score))\n",
    "nb_cm=confusion_matrix(y_test,y_pred)\n",
    "\n",
    "\n",
    "precision_nv = round(precision_score(y_test,y_pred,average = 'macro'),2)\n",
    "recall_nv = round(recall_score(y_test,y_pred, average = 'macro'),2)\n",
    "f1_nv = round(f1_score(y_test,y_pred, average = 'macro'),2)\n",
    "accuracy_nv = round(accuracy_score(y_test,y_pred),2)"
   ]
  },
  {
   "cell_type": "markdown",
   "id": "3bc5c9f0",
   "metadata": {},
   "source": [
    "# Gradient Boosting Classifier"
   ]
  },
  {
   "cell_type": "code",
   "execution_count": 25,
   "id": "a278cb06",
   "metadata": {},
   "outputs": [],
   "source": [
    "from sklearn.ensemble import GradientBoostingClassifier"
   ]
  },
  {
   "cell_type": "code",
   "execution_count": 26,
   "id": "c807d38d",
   "metadata": {},
   "outputs": [
    {
     "name": "stdout",
     "output_type": "stream",
     "text": [
      "accuracy of training set: 1.000000\n",
      "accuracy of test set: 1.000000\n",
      "Classification report for classifier GradientBoostingClassifier(max_depth=1, random_state=42):\n",
      "              precision    recall  f1-score   support\n",
      "\n",
      "     Reactjs       1.00      1.00      1.00         7\n",
      "  peopleSoft       1.00      1.00      1.00         6\n",
      " sql_develop       1.00      1.00      1.00         4\n",
      "     workday       1.00      1.00      1.00         7\n",
      "\n",
      "    accuracy                           1.00        24\n",
      "   macro avg       1.00      1.00      1.00        24\n",
      "weighted avg       1.00      1.00      1.00        24\n",
      "\n",
      "\n",
      "The model score is 1.000000\n"
     ]
    }
   ],
   "source": [
    "gd_model=GradientBoostingClassifier(learning_rate=0.1,n_estimators=100,max_depth=1,random_state=42)\n",
    "gd_model.fit(x_train,y_train)\n",
    "y_pred=gd_model.predict(x_test)\n",
    "acc_gd=accuracy_score(y_test,y_pred)\n",
    "print('accuracy of training set: {:2f}'.format(gd_model.score(x_train,y_train)))\n",
    "print('accuracy of test set: {:2f}'.format(gd_model.score(x_test,y_test)))\n",
    "print(\"Classification report for classifier %s:\\n%s\\n\" % (gd_model,classification_report(y_test, y_pred)))\n",
    "nb_score=gd_model.score(x_test,y_test)\n",
    "print('The model score is {:2f}'.format(nb_score))\n",
    "nb_cm=confusion_matrix(y_test,y_pred)\n",
    "\n",
    "precision_gd = round(precision_score(y_test,y_pred,average = 'macro'),2)\n",
    "recall_gd = round(recall_score(y_test,y_pred, average = 'macro'),2)\n",
    "f1_gd = round(f1_score(y_test,y_pred, average = 'macro'),2)\n",
    "accuracy_gd = round(accuracy_score(y_test,y_pred),2)"
   ]
  },
  {
   "cell_type": "markdown",
   "id": "eb1c7923",
   "metadata": {},
   "source": [
    "# Logistic Regression"
   ]
  },
  {
   "cell_type": "code",
   "execution_count": 27,
   "id": "fcf7c0a2",
   "metadata": {},
   "outputs": [],
   "source": [
    "from sklearn.linear_model import LogisticRegression"
   ]
  },
  {
   "cell_type": "code",
   "execution_count": 28,
   "id": "511fcce0",
   "metadata": {},
   "outputs": [
    {
     "name": "stdout",
     "output_type": "stream",
     "text": [
      "accuracy of training set: 1.000000\n",
      "accuracy of test set: 0.958333\n",
      "Classification report for classifier LogisticRegression(random_state=42):\n",
      "              precision    recall  f1-score   support\n",
      "\n",
      "     Reactjs       0.88      1.00      0.93         7\n",
      "  peopleSoft       1.00      0.83      0.91         6\n",
      " sql_develop       1.00      1.00      1.00         4\n",
      "     workday       1.00      1.00      1.00         7\n",
      "\n",
      "    accuracy                           0.96        24\n",
      "   macro avg       0.97      0.96      0.96        24\n",
      "weighted avg       0.96      0.96      0.96        24\n",
      "\n",
      "\n",
      "The model score is 0.958333\n"
     ]
    }
   ],
   "source": [
    "lg_model=LogisticRegression(penalty='l2',random_state=42,C=1.0)\n",
    "lg_model.fit(x_train,y_train)\n",
    "y_pred=lg_model.predict(x_test)\n",
    "acc_lg=accuracy_score(y_pred,y_test)\n",
    "print('accuracy of training set: {:2f}'.format(lg_model.score(x_train,y_train)))\n",
    "print('accuracy of test set: {:2f}'.format(lg_model.score(x_test,y_test)))\n",
    "print(\"Classification report for classifier %s:\\n%s\\n\" % (lg_model,classification_report(y_test, y_pred)))\n",
    "nb_score=lg_model.score(x_test,y_test)\n",
    "print('The model score is {:2f}'.format(nb_score))\n",
    "nb_cm=confusion_matrix(y_test,y_pred)\n",
    "\n",
    "precision_lg = round(precision_score(y_test,y_pred,average = 'macro'),2)\n",
    "recall_lg = round(recall_score(y_test,y_pred, average = 'macro'),2)\n",
    "f1_lg = round(f1_score(y_test,y_pred, average = 'macro'),2)\n",
    "accuracy_lg = round(accuracy_score(y_test,y_pred),2)"
   ]
  },
  {
   "cell_type": "markdown",
   "id": "ef528632",
   "metadata": {},
   "source": [
    "# Suport vector machine"
   ]
  },
  {
   "cell_type": "code",
   "execution_count": 29,
   "id": "78c80dfa",
   "metadata": {},
   "outputs": [],
   "source": [
    "from sklearn.svm import SVC"
   ]
  },
  {
   "cell_type": "code",
   "execution_count": 30,
   "id": "a80cb6a6",
   "metadata": {},
   "outputs": [
    {
     "name": "stdout",
     "output_type": "stream",
     "text": [
      "accuracy of training set: 1.000000\n",
      "accuracy of test set: 0.916667\n",
      "Classification report for classifier SVC():\n",
      "              precision    recall  f1-score   support\n",
      "\n",
      "     Reactjs       0.78      1.00      0.88         7\n",
      "  peopleSoft       1.00      0.67      0.80         6\n",
      " sql_develop       1.00      1.00      1.00         4\n",
      "     workday       1.00      1.00      1.00         7\n",
      "\n",
      "    accuracy                           0.92        24\n",
      "   macro avg       0.94      0.92      0.92        24\n",
      "weighted avg       0.94      0.92      0.91        24\n",
      "\n",
      "\n",
      "The model score is 0.916667\n"
     ]
    }
   ],
   "source": [
    "svm_model=SVC(C=1.0,kernel='rbf', degree=3,gamma='scale')\n",
    "svm_model.fit(x_train,y_train)\n",
    "y_pred=svm_model.predict(x_test)\n",
    "acc_svm=accuracy_score(y_test,y_pred)\n",
    "print('accuracy of training set: {:2f}'.format(svm_model.score(x_train,y_train)))\n",
    "print('accuracy of test set: {:2f}'.format(svm_model.score(x_test,y_test)))\n",
    "print(\"Classification report for classifier %s:\\n%s\\n\" % (svm_model,classification_report(y_test, y_pred)))\n",
    "nb_score=svm_model.score(x_test,y_test)\n",
    "print('The model score is {:2f}'.format(nb_score))\n",
    "nb_cm=confusion_matrix(y_test,y_pred)\n",
    "\n",
    "precision_svm = round(precision_score(y_test,y_pred,average = 'macro'),2)\n",
    "recall_svm = round(recall_score(y_test,y_pred, average = 'macro'),2)\n",
    "f1_svm = round(f1_score(y_test,y_pred, average = 'macro'),2)\n",
    "accuracy_svm = round(accuracy_score(y_test,y_pred),2)"
   ]
  },
  {
   "cell_type": "code",
   "execution_count": 33,
   "id": "f66db5bf",
   "metadata": {},
   "outputs": [
    {
     "data": {
      "text/html": [
       "<div>\n",
       "<style scoped>\n",
       "    .dataframe tbody tr th:only-of-type {\n",
       "        vertical-align: middle;\n",
       "    }\n",
       "\n",
       "    .dataframe tbody tr th {\n",
       "        vertical-align: top;\n",
       "    }\n",
       "\n",
       "    .dataframe thead th {\n",
       "        text-align: right;\n",
       "    }\n",
       "</style>\n",
       "<table border=\"1\" class=\"dataframe\">\n",
       "  <thead>\n",
       "    <tr style=\"text-align: right;\">\n",
       "      <th></th>\n",
       "      <th>models</th>\n",
       "      <th>Train_Accuracy(%)</th>\n",
       "      <th>Test_Accuracy(%)</th>\n",
       "      <th>Precision(%)</th>\n",
       "      <th>Recall(%)</th>\n",
       "      <th>F1 Scoe(%)</th>\n",
       "    </tr>\n",
       "  </thead>\n",
       "  <tbody>\n",
       "    <tr>\n",
       "      <th>0</th>\n",
       "      <td>knn classifier</td>\n",
       "      <td>0.709091</td>\n",
       "      <td>0.750000</td>\n",
       "      <td>0.59</td>\n",
       "      <td>0.67</td>\n",
       "      <td>0.62</td>\n",
       "    </tr>\n",
       "    <tr>\n",
       "      <th>1</th>\n",
       "      <td>Decision tree classifier</td>\n",
       "      <td>1.000000</td>\n",
       "      <td>1.000000</td>\n",
       "      <td>1.00</td>\n",
       "      <td>1.00</td>\n",
       "      <td>1.00</td>\n",
       "    </tr>\n",
       "    <tr>\n",
       "      <th>2</th>\n",
       "      <td>Naive Bayes</td>\n",
       "      <td>1.000000</td>\n",
       "      <td>0.875000</td>\n",
       "      <td>0.92</td>\n",
       "      <td>0.88</td>\n",
       "      <td>0.87</td>\n",
       "    </tr>\n",
       "    <tr>\n",
       "      <th>3</th>\n",
       "      <td>Gradient Boosting classifer</td>\n",
       "      <td>1.000000</td>\n",
       "      <td>1.000000</td>\n",
       "      <td>1.00</td>\n",
       "      <td>1.00</td>\n",
       "      <td>1.00</td>\n",
       "    </tr>\n",
       "    <tr>\n",
       "      <th>4</th>\n",
       "      <td>logistic regression</td>\n",
       "      <td>1.000000</td>\n",
       "      <td>0.958333</td>\n",
       "      <td>0.97</td>\n",
       "      <td>0.96</td>\n",
       "      <td>0.96</td>\n",
       "    </tr>\n",
       "    <tr>\n",
       "      <th>5</th>\n",
       "      <td>support vector machine</td>\n",
       "      <td>1.000000</td>\n",
       "      <td>0.916667</td>\n",
       "      <td>0.94</td>\n",
       "      <td>0.92</td>\n",
       "      <td>0.92</td>\n",
       "    </tr>\n",
       "  </tbody>\n",
       "</table>\n",
       "</div>"
      ],
      "text/plain": [
       "                        models  Train_Accuracy(%)  Test_Accuracy(%)  \\\n",
       "0               knn classifier           0.709091          0.750000   \n",
       "1     Decision tree classifier           1.000000          1.000000   \n",
       "2                  Naive Bayes           1.000000          0.875000   \n",
       "3  Gradient Boosting classifer           1.000000          1.000000   \n",
       "4          logistic regression           1.000000          0.958333   \n",
       "5       support vector machine           1.000000          0.916667   \n",
       "\n",
       "   Precision(%)  Recall(%)  F1 Scoe(%)  \n",
       "0          0.59       0.67        0.62  \n",
       "1          1.00       1.00        1.00  \n",
       "2          0.92       0.88        0.87  \n",
       "3          1.00       1.00        1.00  \n",
       "4          0.97       0.96        0.96  \n",
       "5          0.94       0.92        0.92  "
      ]
     },
     "execution_count": 33,
     "metadata": {},
     "output_type": "execute_result"
    }
   ],
   "source": [
    "value={'models':[\"knn classifier\",\"Decision tree classifier\",\"Naive Bayes\",\"Gradient Boosting classifer\",\"logistic regression\",\"support vector machine\"],\\\n",
    "       'Train_Accuracy(%)':[knn_model.score(x_train,y_train),dt_model.score(x_train,y_train),nv_model.score(x_train,y_train),gd_model.score(x_train,y_train),lg_model.score(x_train,y_train),svm_model.score(x_train,y_train)],\n",
    "       'Test_Accuracy(%)':[acc_knn,acc_dt,acc_nv,acc_gd,acc_lg,acc_svm],\n",
    "       'Precision(%)':[precision_knn,precision_dt,precision_nv,precision_gd,precision_lg,precision_svm],\n",
    "       'Recall(%)':[recall_knn,recall_dt,recall_nv,recall_gd,recall_lg,recall_svm],\n",
    "       'F1 Scoe(%)':[f1_knn,f1_dt,f1_nv,f1_gd,f1_lg,f1_svm],\n",
    "       ''\n",
    "    \n",
    "      \n",
    "      }\n",
    "df=pd.DataFrame(value)\n",
    "df"
   ]
  },
  {
   "cell_type": "code",
   "execution_count": 47,
   "id": "6ffb5bfc",
   "metadata": {},
   "outputs": [],
   "source": [
    "model_names = [\"KNN\",\"DecisionTree\",\"Naive Bayes\",\"Gradient Boosting \", \"Logistic Regression\",\n",
    "               \"SVM \",]\n",
    "Test_accuracies = [acc_knn*100,acc_dt*100,acc_nv*100,\n",
    "              acc_gd*100,acc_lg*100,acc_svm*100,],\n",
    "Train_accuracies=[knn_model.score(x_train, y_train)*100,\n",
    "                  dt_model.score(x_train, y_train)*100,\n",
    "                  nv_model.score(x_train, y_train)*100,\n",
    "                  \n",
    "                  gd_model.score(x_train, y_train)*100,\n",
    "                  lg_model.score(x_train, y_train)*100,\n",
    "                  svm_model.score(x_train, y_train)*100,]"
   ]
  },
  {
   "cell_type": "code",
   "execution_count": 48,
   "id": "3241b1e7",
   "metadata": {},
   "outputs": [
    {
     "data": {
      "text/plain": [
       "['KNN',\n",
       " 'DecisionTree',\n",
       " 'Naive Bayes',\n",
       " 'Gradient Boosting ',\n",
       " 'Logistic Regression',\n",
       " 'SVM ']"
      ]
     },
     "execution_count": 48,
     "metadata": {},
     "output_type": "execute_result"
    }
   ],
   "source": [
    "model_names"
   ]
  },
  {
   "cell_type": "code",
   "execution_count": 52,
   "id": "dae21f25",
   "metadata": {},
   "outputs": [],
   "source": [
    "import pickle\n",
    "filename = 'modelDT.pkl'\n",
    "pickle.dump(dt_model,open(filename,'wb'))"
   ]
  },
  {
   "cell_type": "code",
   "execution_count": 54,
   "id": "8d158b38",
   "metadata": {},
   "outputs": [],
   "source": [
    "import pickle\n",
    "filename = 'vector.pkl'\n",
    "pickle.dump(tf_idf,open(filename,'wb'))"
   ]
  },
  {
   "cell_type": "code",
   "execution_count": null,
   "id": "60e96fdd",
   "metadata": {},
   "outputs": [],
   "source": []
  }
 ],
 "metadata": {
  "kernelspec": {
   "display_name": "Python 3 (ipykernel)",
   "language": "python",
   "name": "python3"
  },
  "language_info": {
   "codemirror_mode": {
    "name": "ipython",
    "version": 3
   },
   "file_extension": ".py",
   "mimetype": "text/x-python",
   "name": "python",
   "nbconvert_exporter": "python",
   "pygments_lexer": "ipython3",
   "version": "3.10.9"
  }
 },
 "nbformat": 4,
 "nbformat_minor": 5
}
